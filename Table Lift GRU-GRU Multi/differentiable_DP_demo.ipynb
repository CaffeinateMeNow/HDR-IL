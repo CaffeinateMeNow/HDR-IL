{
  "nbformat": 4,
  "nbformat_minor": 0,
  "metadata": {
    "kernelspec": {
      "display_name": "Python 3",
      "language": "python",
      "name": "python3"
    },
    "language_info": {
      "codemirror_mode": {
        "name": "ipython",
        "version": 3
      },
      "file_extension": ".py",
      "mimetype": "text/x-python",
      "name": "python",
      "nbconvert_exporter": "python",
      "pygments_lexer": "ipython3",
      "version": "3.6.8"
    },
    "colab": {
      "name": "differentiable_DP_demo.ipynb",
      "provenance": [],
      "collapsed_sections": [],
      "toc_visible": true
    }
  },
  "cells": [
    {
      "cell_type": "markdown",
      "metadata": {
        "id": "y7QWQdZ_wOyh",
        "colab_type": "text"
      },
      "source": [
        "# differentiable Dynamic Programming \n",
        "\n",
        "This is a demo to make dynamic programming algorithm differentiable, with applications to compute distances between structured objects: time series, trajectories, trees, and graphs "
      ]
    },
    {
      "cell_type": "code",
      "metadata": {
        "id": "T033a4bzcj3F",
        "colab_type": "code",
        "colab": {}
      },
      "source": [
        "# Macros and libararies\n",
        "from math import isinf\n",
        "from numpy import array, zeros, full, argmin, inf, ndim\n",
        "import numpy as np\n",
        "import torch as T\n",
        "import torch.nn as nn"
      ],
      "execution_count": 0,
      "outputs": []
    },
    {
      "cell_type": "markdown",
      "metadata": {
        "id": "zA_6cP4VwOyk",
        "colab_type": "text"
      },
      "source": [
        "## 1. First let's make a small DP game in pure python"
      ]
    },
    {
      "cell_type": "code",
      "metadata": {
        "id": "A1CVo0_JwOym",
        "colab_type": "code",
        "colab": {}
      },
      "source": [
        "\n",
        "def _traceback(D):\n",
        "    i, j = array(D.shape) - 2\n",
        "    p, q = [i], [j]\n",
        "    while (i > 0) or (j > 0):\n",
        "        tb = argmin((D[i, j], D[i, j + 1], D[i + 1, j]))\n",
        "        if tb == 0:\n",
        "            i -= 1\n",
        "            j -= 1\n",
        "        elif tb == 1:\n",
        "            i -= 1\n",
        "        else:  # (tb == 2):\n",
        "            j -= 1\n",
        "        p.insert(0, i)\n",
        "        q.insert(0, j)\n",
        "    return array(p), array(q)\n",
        "\n",
        "def dtw(x, y, dist, warp=1, w=inf, s=1.0):\n",
        "    \"\"\"\n",
        "    Computes Dynamic Time Warping (DTW) of two sequences.\n",
        "    :param array x: N1*M array\n",
        "    :param array y: N2*M array\n",
        "    :param func dist: distance used as cost measure\n",
        "    :param int warp: how many shifts are computed.\n",
        "    :param int w: window size limiting the maximal distance between indices of matched entries |i,j|.\n",
        "    :param float s: weight applied on off-diagonal moves of the path. As s gets larger, the warping path is increasingly biased towards the diagonal\n",
        "    Returns the minimum distance, the cost matrix, the accumulated cost matrix, and the wrap path.\n",
        "    \"\"\"\n",
        "    assert len(x)\n",
        "    assert len(y)\n",
        "    assert isinf(w) or (w >= abs(len(x) - len(y)))\n",
        "    assert s > 0\n",
        "    r, c = len(x), len(y)\n",
        "    if not isinf(w):\n",
        "        D0 = full((r + 1, c + 1), inf)\n",
        "        for i in range(1, r + 1):\n",
        "            D0[i, max(1, i - w):min(c + 1, i + w + 1)] = 0\n",
        "        D0[0, 0] = 0\n",
        "    else:\n",
        "        D0 = zeros((r + 1, c + 1))\n",
        "        D0[0, 1:] = inf\n",
        "        D0[1:, 0] = inf\n",
        "    D1 = D0[1:, 1:]  # view\n",
        "    for i in range(r):\n",
        "        for j in range(c):\n",
        "            if (isinf(w) or (max(0, i - w) <= j <= min(c, i + w))):\n",
        "                D1[i, j] = dist(x[i], y[j])\n",
        "    C = D1.copy()\n",
        "    jrange = range(c)\n",
        "    for i in range(r):\n",
        "        if not isinf(w):\n",
        "            jrange = range(max(0, i - w), min(c, i + w + 1))\n",
        "        for j in jrange:\n",
        "            min_list = [D0[i, j]]\n",
        "            for k in range(1, warp + 1):\n",
        "                i_k = min(i+k, r)\n",
        "                j_k = min(j+k, c)\n",
        "                min_list += [D0[i_k, j] * s, D0[i, j_k] * s]\n",
        "            D1[i, j] += min(min_list)\n",
        "    if len(x) == 1:\n",
        "        path = zeros(len(y)), range(len(y))\n",
        "    elif len(y) == 1:\n",
        "        path = range(len(x)), zeros(len(x))\n",
        "    else:\n",
        "        path = _traceback(D0)\n",
        "    return D1[-1, -1], C, D1, path"
      ],
      "execution_count": 0,
      "outputs": []
    },
    {
      "cell_type": "code",
      "metadata": {
        "id": "Y1tuJ0CjwOyp",
        "colab_type": "code",
        "outputId": "4a1acf54-eac7-4dc0-b78a-f7e746a0fa72",
        "colab": {
          "base_uri": "https://localhost:8080/",
          "height": 265
        }
      },
      "source": [
        "# We define two sequences x, y as numpy array\n",
        "# where y is actually a sub-sequence from x\n",
        "x = np.array([2, 0, 1, 1, 2, 4, 2, 1, 2, 0]).reshape(-1, 1)\n",
        "y = np.array([1, 1, 2, 4, 2, 1, 2, 0]).reshape(-1, 1)\n",
        "\n",
        "\n",
        "euclidean_norm = lambda x, y: np.abs(x - y)\n",
        "\n",
        "d, cost_matrix, acc_cost_matrix, path = dtw(x, y, dist=euclidean_norm)\n",
        "\n",
        "\n",
        "# You can also visualise the accumulated cost and the shortest path\n",
        "import matplotlib.pyplot as plt\n",
        "\n",
        "plt.imshow(acc_cost_matrix.T, origin='lower', cmap='gray', interpolation='nearest')\n",
        "plt.plot(path[0], path[1], 'w')\n",
        "plt.show()"
      ],
      "execution_count": 0,
      "outputs": [
        {
          "output_type": "display_data",
          "data": {
            "image/png": "[encoded data removed]",
            "text/plain": [
              "<Figure size 432x288 with 1 Axes>"
            ]
          },
          "metadata": {
            "tags": []
          }
        }
      ]
    },
    {
      "cell_type": "code",
      "metadata": {
        "id": "dO9CTFDVwOys",
        "colab_type": "code",
        "outputId": "bed5c2df-2651-456d-d010-69f3a991dcec",
        "colab": {
          "base_uri": "https://localhost:8080/",
          "height": 34
        }
      },
      "source": [
        "min(1,10)"
      ],
      "execution_count": 0,
      "outputs": [
        {
          "output_type": "execute_result",
          "data": {
            "text/plain": [
              "1"
            ]
          },
          "metadata": {
            "tags": []
          },
          "execution_count": 13
        }
      ]
    },
    {
      "cell_type": "markdown",
      "metadata": {
        "id": "v2O0he2rwOyw",
        "colab_type": "text"
      },
      "source": [
        "## 2. Now lets try to make it differentiable "
      ]
    },
    {
      "cell_type": "markdown",
      "metadata": {
        "id": "iwwKH5JC0rta",
        "colab_type": "text"
      },
      "source": [
        "use a smooth approximation of the min function, larger $\\rho$, better approximation\n",
        "$$f(x) = -\\frac{1}{\\rho}\\log \\frac{1}{N} \\sum_{i=1}^N e^{-\\rho x_i},$$"
      ]
    },
    {
      "cell_type": "code",
      "metadata": {
        "id": "Z9a-jD23VFo0",
        "colab_type": "code",
        "outputId": "c9346d41-0955-43a5-ed6a-7a9d16077189",
        "colab": {
          "base_uri": "https://localhost:8080/",
          "height": 34
        }
      },
      "source": [
        "# this cannot handle inf, -\\rho * x too big, e^{- \\rho * x} close to 0\n",
        "def smooth_min(x, rho=10):\n",
        "  eps = 1e-12\n",
        "  val =  -1/rho * T.log(T.mean(T.exp(x * (-rho))) + eps)\n",
        "  assert val!=float('inf'), T.mean(T.exp(x * (-rho)))\n",
        "  return val\n",
        "\n",
        "rho = 10\n",
        "x = T.tensor([100.0,  2.0231, 100.0])\n",
        "print (smooth_min(x,rho))\n",
        "\n",
        "\n",
        "# 1d min func is 1"
      ],
      "execution_count": 0,
      "outputs": [
        {
          "output_type": "stream",
          "text": [
            "tensor(2.1328)\n"
          ],
          "name": "stdout"
        }
      ]
    },
    {
      "cell_type": "code",
      "metadata": {
        "id": "IbsiHZ0HwOyw",
        "colab_type": "code",
        "colab": {}
      },
      "source": [
        "# this will serve as a loss function \n",
        "def _traceback(D):\n",
        "    i, j = array(D.shape) - 2\n",
        "    p, q = [i], [j]\n",
        "    while (i > 0) or (j > 0):\n",
        "        tb = argmin((D[i, j], D[i, j + 1], D[i + 1, j]))\n",
        "        if tb == 0:\n",
        "            i -= 1\n",
        "            j -= 1\n",
        "        elif tb == 1:\n",
        "            i -= 1\n",
        "        else:  # (tb == 2):\n",
        "            j -= 1\n",
        "        p.insert(0, i)\n",
        "        q.insert(0, j)\n",
        "    return array(p), array(q)\n",
        "\n",
        "def diff_dtw_loss(x, y, dist,warp=1, w=inf, s=1.0, rho=40):\n",
        "    \"\"\" differentiable dtw, takes two sequences and\n",
        "    compute the distance under the metric\n",
        "    x, y is a tensor seq_len x dim\n",
        "    dist is a bi-variate function\n",
        "    \"\"\"\n",
        "    \n",
        "    assert x.shape[0]\n",
        "    assert y.shape[0]\n",
        "    assert isinf(w) or (w >= abs(len(x) - len(y)))\n",
        "    assert s > 0\n",
        "    \n",
        "\n",
        "    MAX_VAL = 1e2\n",
        "    \n",
        "    r, c = x.shape[0], y.shape[0]\n",
        "    if not isinf(w):\n",
        "        D0 = T.full((r + 1, c + 1), MAX_VAL)\n",
        "        for i in range(1, r + 1):\n",
        "            D0[i, max(1, i - w):min(c + 1, i + w + 1)] = 0\n",
        "        D0[0, 0] = 0\n",
        "    else:\n",
        "        D0 = T.zeros(r + 1, c + 1)\n",
        "        D0[0, 1:] = MAX_VAL\n",
        "        D0[1:, 0] = MAX_VAL\n",
        "    D1 = D0[1:, 1:]  # view\n",
        "    for i in range(r):\n",
        "        for j in range(c):\n",
        "            if (isinf(w) or (max(0, i - w) <= j <= min(c, i + w))):\n",
        "                D1[i, j] = dist(x[i], y[j])\n",
        "    C = D1.clone()\n",
        "    jrange = range(c)\n",
        "    for i in range(r):\n",
        "        if not isinf(w):\n",
        "            jrange = range(max(0, i - w), min(c, i + w + 1))\n",
        "        for j in jrange:\n",
        "            min_list = D0[i, j]\n",
        "            for k in range(1, warp + 1):\n",
        "#                 print(i+k, r)\n",
        "                i_k = min(i+k, r)\n",
        "                j_k = min(j+k, c)\n",
        "                min_list = T.cat((T.tensor([min_list]),  T.tensor([D0[i_k, j] * s]), T.tensor([D0[i, j_k] * s])))\n",
        "                # Softmin is NOT a smooth min function\n",
        "            min_val = smooth_min(min_list,rho)\n",
        "            # print('min:', i, j, min_val, min_list)\n",
        "            D1[i, j] = D1[i, j] + min_val\n",
        "    if len(x) == 1:\n",
        "        path = zeros(len(y)), range(len(y))\n",
        "    elif len(y) == 1:\n",
        "        path = range(len(x)), zeros(len(x))\n",
        "    else:\n",
        "        path = _traceback(D0)\n",
        "    return D1[-1, -1], C, D1, path    \n",
        "    "
      ],
      "execution_count": 0,
      "outputs": []
    },
    {
      "cell_type": "code",
      "metadata": {
        "id": "qv8fZN990mjx",
        "colab_type": "code",
        "outputId": "09b49a03-4199-4276-cd68-c658d9691488",
        "colab": {
          "base_uri": "https://localhost:8080/",
          "height": 280
        }
      },
      "source": [
        "x = np.array([2, 0, 1, 1, 2, 4, 2, 1, 2, 0], dtype=np.float32).reshape(-1, 1)\n",
        "y = np.array([1, 1, 2, 4, 2, 1, 2, 0], dtype=np.float32).reshape(-1, 1)\n",
        "\n",
        "\n",
        "\n",
        "tensor_x = T.from_numpy(x)\n",
        "tensor_y = T.from_numpy(y)\n",
        "\n",
        "\n",
        "euclidean_norm = lambda x, y: T.abs(x - y)\n",
        "\n",
        "diff_d, diff_cost_matrix, diff_acc_cost_matrix, diff_path = diff_dtw_loss(tensor_x, tensor_y, dist=euclidean_norm)\n",
        "\n",
        "print('distance', diff_d, 'diff distance:', diff_d.detach().numpy())\n",
        "diff_acc_cost_matrix = diff_acc_cost_matrix.detach().numpy()\n",
        "# print(acc_cost_matrix)\n",
        "\n",
        "\n",
        "# You can also visualise the accumulated cost and the shortest path\n",
        "import matplotlib.pyplot as plt\n",
        "\n",
        "fig, (ax1, ax2) = plt.subplots(1, 2)\n",
        "fig.suptitle('Original and Differentiable Accumated Cost Matrix')\n",
        "ax1.imshow(acc_cost_matrix.T, origin='lower', cmap='gray', interpolation='nearest')\n",
        "ax1.plot(path[0], path[1], 'w')\n",
        "ax2.imshow(diff_acc_cost_matrix.T, origin='lower', cmap='gray', interpolation='nearest')\n",
        "ax2.plot(diff_path[0], diff_path[1], 'w')\n",
        "\n",
        "\n",
        "# plt.imshow(acc_cost_matrix.T, origin='lower', cmap='gray', interpolation='nearest')\n",
        "# plt.plot(path[0], path[1], 'w')\n",
        "# plt.show()"
      ],
      "execution_count": 0,
      "outputs": [
        {
          "output_type": "stream",
          "text": [
            "distance tensor(0.6806) diff distance: 0.6806224\n"
          ],
          "name": "stdout"
        },
        {
          "output_type": "execute_result",
          "data": {
            "text/plain": [
              "[<matplotlib.lines.Line2D at 0x7f6fc8f53550>]"
            ]
          },
          "metadata": {
            "tags": []
          },
          "execution_count": 16
        },
        {
          "output_type": "display_data",
          "data": {
            "image/png": "[encoded data removed]",
            "text/plain": [
              "<Figure size 432x288 with 2 Axes>"
            ]
          },
          "metadata": {
            "tags": []
          }
        }
      ]
    },
    {
      "cell_type": "markdown",
      "metadata": {
        "id": "Nb3aq8cPe4en",
        "colab_type": "text"
      },
      "source": [
        "# 3. Wrap the diff_dtw_loss in a loss class "
      ]
    },
    {
      "cell_type": "code",
      "metadata": {
        "id": "m7kJta3rfPR7",
        "colab_type": "code",
        "outputId": "161c1cb6-4c5d-4f08-e3ec-059065813436",
        "colab": {
          "base_uri": "https://localhost:8080/",
          "height": 187
        }
      },
      "source": [
        "import torch as T\n",
        "from torch.nn import functional as F\n",
        "\n",
        "from torch.nn.modules import Module\n",
        "\n",
        "class _Loss(Module):\n",
        "    def __init__(self, size_average=None, reduce=None, reduction='mean'):\n",
        "        super(_Loss, self).__init__()\n",
        "        if size_average is not None or reduce is not None:\n",
        "            self.reduction = _Reduction.legacy_get_string(size_average, reduce)\n",
        "        else:\n",
        "            self.reduction = reduction\n",
        "\n",
        "\n",
        "class DTW_Loss(_Loss):\n",
        "  def __init__(self, rho=10, size_average=None, reduce=None, reduction='mean'):\n",
        "    super(DTW_Loss, self).__init__(size_average, reduce, reduction)\n",
        "    self.rho = rho\n",
        "\n",
        "  def forward(self, input, target):\n",
        "    # batch x seq_len x dim\n",
        "    if ndim(input)==3:\n",
        "      dist = []\n",
        "      for b in range(input.size(0)):\n",
        "          d_b, cost_matrix, diff_acc_cost_matrix, diff_path = diff_dtw_loss(input[b], target[b], dist=euclidean_norm, rho=rho) \n",
        "          dist.append(d_b)\n",
        "      d = T.mean(T.tensor(dist))\n",
        "    else: \n",
        "      d, cost_matrix, diff_acc_cost_matrix, diff_path = diff_dtw_loss(input, target, dist=euclidean_norm, rho=rho) \n",
        "    #F.mse_loss(input, target, reduction=self.reduction)\n",
        "    loss_val =  d #.detach().numpy()\n",
        "    return loss_val\n",
        "\n",
        "x = np.array([2, 0, 1, 1, 2, 4, 2, 1, 2, 0], dtype=np.float32).reshape(1, -1, 1)\n",
        "y = np.array([1, 1, 2, 4, 2, 1, 2, 0], dtype=np.float32).reshape(1, -1, 1)\n",
        "\n",
        "tensor_x = T.from_numpy(x)\n",
        "tensor_y = T.from_numpy(y)\n",
        "loss_vals = []\n",
        "\n",
        "rhos = np.linspace(1, 10,10)\n",
        "for rho in rhos:\n",
        "  print(rho)\n",
        "  my_loss = DTW_Loss(rho)\n",
        "  loss_vals.append(my_loss(tensor_x, tensor_y))"
      ],
      "execution_count": 0,
      "outputs": [
        {
          "output_type": "stream",
          "text": [
            "1.0\n",
            "2.0\n",
            "3.0\n",
            "4.0\n",
            "5.0\n",
            "6.0\n",
            "7.0\n",
            "8.0\n",
            "9.0\n",
            "10.0\n"
          ],
          "name": "stdout"
        }
      ]
    },
    {
      "cell_type": "code",
      "metadata": {
        "id": "DlfZLu3bvaT2",
        "colab_type": "code",
        "outputId": "00af7f11-e0ee-46c6-cfb5-bd68d278010b",
        "colab": {
          "base_uri": "https://localhost:8080/",
          "height": 300
        }
      },
      "source": [
        "plt.plot(rhos, loss_vals)\n",
        "plt.hlines(2, rhos[0], rhos[-1], linestyle='dotted')\n",
        "plt.title('Distance approximation vs $p$  ')\n",
        "plt.legend(['DTW', 'Diff_DTW'])"
      ],
      "execution_count": 0,
      "outputs": [
        {
          "output_type": "execute_result",
          "data": {
            "text/plain": [
              "<matplotlib.legend.Legend at 0x7f6fc90632b0>"
            ]
          },
          "metadata": {
            "tags": []
          },
          "execution_count": 18
        },
        {
          "output_type": "display_data",
          "data": {
            "image/png": "[encoded data removed]",
            "text/plain": [
              "<Figure size 432x288 with 1 Axes>"
            ]
          },
          "metadata": {
            "tags": []
          }
        }
      ]
    },
    {
      "cell_type": "markdown",
      "metadata": {
        "id": "4bdwQgCd5YUd",
        "colab_type": "text"
      },
      "source": [
        "# Test on the sequence alignment task\n",
        "learn sequence representations subject to the alignment loss "
      ]
    },
    {
      "cell_type": "code",
      "metadata": {
        "id": "6wD8WMOp5coD",
        "colab_type": "code",
        "outputId": "4d1b8362-6f2e-471f-b7e8-2de129b888b3",
        "colab": {
          "base_uri": "https://localhost:8080/",
          "height": 51
        }
      },
      "source": [
        "path_name = \"./sample_data/\"\n",
        "file_name = \"GunPoint_TRAIN.txt\"\n",
        "# gun_point data has 150 time steps, binary class labels \n",
        "\n",
        "gun_point_x = []\n",
        "gun_point_y = []\n",
        "\n",
        "with open(path_name+file_name, 'r') as f:\n",
        "  for line in f:\n",
        "    tokens = line.split()\n",
        "    vals = [float(token) for token in tokens]\n",
        "    gun_point_x.append(np.asarray(vals[1:],dtype=float).reshape(-1,1))\n",
        "    gun_point_y.append(vals[0])\n",
        "\n",
        "\n",
        "print('total training point', len(gun_point_x))\n",
        "print(len(gun_point_x[0]))"
      ],
      "execution_count": 0,
      "outputs": [
        {
          "output_type": "stream",
          "text": [
            "total training point 50\n",
            "150\n"
          ],
          "name": "stdout"
        }
      ]
    },
    {
      "cell_type": "code",
      "metadata": {
        "id": "ZG13ym2gqPJO",
        "colab_type": "code",
        "outputId": "9ce83965-108e-426f-8fd7-ab6d5bb8f712",
        "colab": {
          "base_uri": "https://localhost:8080/",
          "height": 54
        }
      },
      "source": [
        "from google.colab import drive\n",
        "drive.mount('/content/drive')"
      ],
      "execution_count": 0,
      "outputs": [
        {
          "output_type": "stream",
          "text": [
            "Drive already mounted at /content/drive; to attempt to forcibly remount, call drive.mount(\"/content/drive\", force_remount=True).\n"
          ],
          "name": "stdout"
        }
      ]
    },
    {
      "cell_type": "markdown",
      "metadata": {
        "id": "C6pmYGPlko8X",
        "colab_type": "text"
      },
      "source": [
        "## Load the gun shot time series"
      ]
    },
    {
      "cell_type": "code",
      "metadata": {
        "id": "BVfHKBRaATmY",
        "colab_type": "code",
        "outputId": "1eea2677-2d6b-41ce-cd2a-b0a09fad9e7b",
        "colab": {
          "base_uri": "https://localhost:8080/",
          "height": 282
        }
      },
      "source": [
        "plt.plot(gun_point_x[49])"
      ],
      "execution_count": 0,
      "outputs": [
        {
          "output_type": "execute_result",
          "data": {
            "text/plain": [
              "[<matplotlib.lines.Line2D at 0x7f6fc96097f0>]"
            ]
          },
          "metadata": {
            "tags": []
          },
          "execution_count": 21
        },
        {
          "output_type": "display_data",
          "data": {
            "image/png": "[encoded data removed]",
            "text/plain": [
              "<Figure size 432x288 with 1 Axes>"
            ]
          },
          "metadata": {
            "tags": []
          }
        }
      ]
    },
    {
      "cell_type": "code",
      "metadata": {
        "id": "hWHpz_4KA7Kz",
        "colab_type": "code",
        "outputId": "6c3e7710-ced3-4174-8313-098c95ee2c1a",
        "colab": {
          "base_uri": "https://localhost:8080/",
          "height": 102
        }
      },
      "source": [
        "# Use the DTW loss to learn a generative model \n",
        "class NeuralNet(Module):\n",
        "  def __init__(self):\n",
        "      super(NeuralNet, self).__init__()\n",
        "      # an encoder-decoder \n",
        "      self.fc1 = nn.Linear(150, 64)\n",
        "      self.fc2 = nn.Linear(64, 10)\n",
        "  def forward(self, x):\n",
        "      x = F.relu(self.fc1(x))\n",
        "      x = F.relu(self.fc2(x))\n",
        "      return x\n",
        "\n",
        "net = NeuralNet()\n",
        "print(net)\n",
        "\n",
        "input= T.from_numpy(gun_point_x[0]).float().reshape(1,-1)\n",
        "#input = T.randn(1, 150, 1) # first mode is batch size\n",
        "\n",
        "output = net(input)\n",
        "target = T.randn(1,10)  # a dummy target, for example\n",
        "target = target.view(1, -1)  # make it the same shape as output\n",
        "\n",
        "criterion = DTW_Loss(rho)\n",
        "output=output.reshape(1,-1).unsqueeze(2)\n",
        "target=target.reshape(1,-1).unsqueeze(2)\n",
        "\n",
        "loss = criterion(output, target)\n",
        "print(loss)"
      ],
      "execution_count": 0,
      "outputs": [
        {
          "output_type": "stream",
          "text": [
            "NeuralNet(\n",
            "  (fc1): Linear(in_features=150, out_features=64, bias=True)\n",
            "  (fc2): Linear(in_features=64, out_features=10, bias=True)\n",
            ")\n",
            "tensor(2.8664)\n"
          ],
          "name": "stdout"
        }
      ]
    },
    {
      "cell_type": "markdown",
      "metadata": {
        "id": "JHu6oo8rkxWu",
        "colab_type": "text"
      },
      "source": [
        "## Now train the weights of the NN to minize diff_dtw loss"
      ]
    },
    {
      "cell_type": "code",
      "metadata": {
        "colab_type": "code",
        "id": "pJocm4Ojk3A1",
        "outputId": "900f878d-465e-4072-98d8-2816614974ba",
        "colab": {
          "base_uri": "https://localhost:8080/",
          "height": 187
        }
      },
      "source": [
        "import torch.optim as optim\n",
        "\n",
        "# create your optimizer\n",
        "optimizer = optim.SGD(net.parameters(), lr=0.01)\n",
        "\n",
        "optimizer.zero_grad()   # zero the gradient buffers\n",
        "rho = 1\n",
        "criterion = DTW_Loss(rho)\n",
        "\n",
        "# in your training loop:\n",
        "running_loss = 0.0\n",
        "\n",
        "for i in range(10):\n",
        "  input= T.from_numpy(gun_point_x[0]).float().reshape(1,-1)\n",
        "  target = T.from_numpy(gun_point_x[2]).float().reshape(1,-1)\n",
        "  output = net(input)\n",
        "\n",
        "  output=output.reshape(1,-1).unsqueeze(2)\n",
        "  target=target.reshape(1,-1).unsqueeze(2)\n",
        "\n",
        "  loss = criterion(output, target)\n",
        "  loss.requires_grad=True\n",
        "  loss.backward()\n",
        "  optimizer.step()    \n",
        "  running_loss += loss.item()/(i+1) \n",
        "  print(running_loss)"
      ],
      "execution_count": 0,
      "outputs": [
        {
          "output_type": "stream",
          "text": [
            "27.675262451171875\n",
            "41.51289367675781\n",
            "50.73798116048177\n",
            "57.65679677327474\n",
            "63.19184926350912\n",
            "67.8043930053711\n",
            "71.75800192696708\n",
            "75.21740973336357\n",
            "78.29243889460489\n",
            "81.05996513972207\n"
          ],
          "name": "stdout"
        }
      ]
    }
  ]
}